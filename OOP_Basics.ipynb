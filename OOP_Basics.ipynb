{
 "cells": [
  {
   "cell_type": "code",
   "execution_count": 21,
   "id": "c75d073f-86e4-4133-9151-89f90a2ce1ef",
   "metadata": {},
   "outputs": [],
   "source": [
    "class car:\n",
    "    def __init__(self,year,make,model):\n",
    "        self.year=year\n",
    "        self.make=make\n",
    "        self.model=model\n",
    "    def display_info(self):\n",
    "        return (f\"{self.year},{self.make}\")"
   ]
  },
  {
   "cell_type": "code",
   "execution_count": 22,
   "id": "f14858fb-9ab3-4878-9efb-36afb7025e55",
   "metadata": {},
   "outputs": [],
   "source": [
    "a=car(2015,'Honda','SUV')"
   ]
  },
  {
   "cell_type": "code",
   "execution_count": 23,
   "id": "a242f394-564c-45cc-83bd-cc6d43bea4af",
   "metadata": {},
   "outputs": [
    {
     "name": "stdout",
     "output_type": "stream",
     "text": [
      "2015,Honda\n"
     ]
    }
   ],
   "source": [
    "print(a.display_info())"
   ]
  },
  {
   "cell_type": "code",
   "execution_count": null,
   "id": "c811343f-1d0d-4182-98af-30cabaaa7e37",
   "metadata": {},
   "outputs": [],
   "source": []
  },
  {
   "cell_type": "code",
   "execution_count": 59,
   "id": "f01b0ef8-e634-43d2-bab4-3883e7fdcf70",
   "metadata": {},
   "outputs": [],
   "source": [
    "class evcar(car):\n",
    "    def __init__(self,year,make,model,battery):\n",
    "        super().__init__(year,make,model)\n",
    "        self.battery=battery\n",
    "    def display(self):\n",
    "        print(f'{self.model} is made by {self.make} at {self.year} with {self.battery} kwh battery')\n",
    "            "
   ]
  },
  {
   "cell_type": "code",
   "execution_count": 60,
   "id": "f9a75f5d-5311-4731-a328-4fbe874cb671",
   "metadata": {},
   "outputs": [],
   "source": [
    "a=evcar(2015,'Honda','SUV',52627)"
   ]
  },
  {
   "cell_type": "code",
   "execution_count": 61,
   "id": "7542ebd7-13b2-4fce-ac07-86676fddb1fe",
   "metadata": {},
   "outputs": [
    {
     "name": "stdout",
     "output_type": "stream",
     "text": [
      "SUV is made by Honda at 2015 with 52627 kwh battery\n"
     ]
    }
   ],
   "source": [
    "a.display()"
   ]
  },
  {
   "cell_type": "code",
   "execution_count": 38,
   "id": "245ec257-4045-44f8-819a-bd183bf48711",
   "metadata": {},
   "outputs": [],
   "source": [
    "class evcar1:\n",
    "    def __init__(self,year,make,model,battery):\n",
    "        self.year=year\n",
    "        self.make=make\n",
    "        self.model=model\n",
    "        self.battery=battery\n",
    "    def display(self):\n",
    "        print(f'{self.model} is made by {self.make} at {self.year} with {self.battery} kwh battery')\n",
    "            "
   ]
  },
  {
   "cell_type": "code",
   "execution_count": 37,
   "id": "d2165fb7-516e-4b17-95c5-329be8f4b603",
   "metadata": {},
   "outputs": [],
   "source": [
    "b=evcar1(2015,'Honda','SUV',52627)"
   ]
  },
  {
   "cell_type": "code",
   "execution_count": 39,
   "id": "b5f5a8d3-b0dc-4ab5-8720-a100cb0dbbf6",
   "metadata": {},
   "outputs": [
    {
     "name": "stdout",
     "output_type": "stream",
     "text": [
      "SUV is made by Honda at 2015 with 52627 kwh battery\n"
     ]
    }
   ],
   "source": [
    "b.display()"
   ]
  },
  {
   "cell_type": "code",
   "execution_count": null,
   "id": "97c56e57-847b-48d5-95bd-09dfcbb0b97f",
   "metadata": {},
   "outputs": [],
   "source": []
  },
  {
   "cell_type": "code",
   "execution_count": 71,
   "id": "21bddd4e-4c63-4ab3-bf36-2fd8cdd9b07f",
   "metadata": {},
   "outputs": [],
   "source": [
    "class MaxNumberFinder:\n",
    "    def __init__(self, nums):\n",
    "        self.nums=nums\n",
    "        max(nums)\n",
    "\n",
    "    def find_max_number(self):\n",
    "        # your code here\n",
    "        print(\"Maximum number is:\",self.maxi)"
   ]
  },
  {
   "cell_type": "code",
   "execution_count": null,
   "id": "c87571c3-8456-492d-bc07-9782225fc46c",
   "metadata": {},
   "outputs": [],
   "source": []
  },
  {
   "cell_type": "code",
   "execution_count": null,
   "id": "1f9fc8cb-7bd0-492a-aea2-30dd2bfa661e",
   "metadata": {},
   "outputs": [],
   "source": []
  },
  {
   "cell_type": "code",
   "execution_count": 88,
   "id": "82533f29-50be-491b-a1b9-e4bf83cfb29b",
   "metadata": {},
   "outputs": [],
   "source": [
    "class Stack:\n",
    "    def __init__(self):\n",
    "        # Initialize an empty stack\n",
    "        self.a=[]\n",
    "        pass\n",
    "\n",
    "    def push(self, item):\n",
    "        # Push the item onto the stack\n",
    "        a.Push(self.item)\n",
    "        pass\n",
    "\n",
    "    def pop(self):\n",
    "        # Remove and return the item at the top of the stack\n",
    "        a.pop()\n",
    "        pass\n",
    "\n",
    "    def peek(self):\n",
    "        # Return the item at the top of the stack without removing it\n",
    "        a.peek()\n",
    "        pass\n",
    "\n",
    "    def is_empty(self):\n",
    "        # Return True if the stack is empty, False otherwise\n",
    "        if a==is_empty():\n",
    "            return True\n",
    "        else:\n",
    "            return False\n",
    "        pass\n",
    "\n",
    "    def size(self):\n",
    "        # Return the number of items in the stack\n",
    "        print(a.size())\n",
    "        pass\n"
   ]
  },
  {
   "cell_type": "code",
   "execution_count": null,
   "id": "c34ad2e7-ac28-4cfe-aee7-8e343d20ccd0",
   "metadata": {},
   "outputs": [],
   "source": []
  },
  {
   "cell_type": "code",
   "execution_count": null,
   "id": "536eb58c-4a84-4b08-8c20-2979408db859",
   "metadata": {},
   "outputs": [],
   "source": []
  },
  {
   "cell_type": "code",
   "execution_count": null,
   "id": "5d9a366a-df8f-4375-887b-1c73be7c95b8",
   "metadata": {},
   "outputs": [],
   "source": []
  },
  {
   "cell_type": "code",
   "execution_count": null,
   "id": "4e3d0a32-790d-4b7a-bff2-ef22a024faaf",
   "metadata": {},
   "outputs": [],
   "source": []
  },
  {
   "cell_type": "code",
   "execution_count": null,
   "id": "104cc0ff-a9da-49ae-983d-2f7ba26092b2",
   "metadata": {},
   "outputs": [],
   "source": []
  },
  {
   "cell_type": "code",
   "execution_count": null,
   "id": "d8b64ccf-afcf-4f02-ae64-f793231ca7b0",
   "metadata": {},
   "outputs": [],
   "source": []
  },
  {
   "cell_type": "code",
   "execution_count": null,
   "id": "ab0f9512-224d-46b0-aa8a-04d7e568316f",
   "metadata": {},
   "outputs": [],
   "source": []
  }
 ],
 "metadata": {
  "kernelspec": {
   "display_name": "Python 3 (ipykernel)",
   "language": "python",
   "name": "python3"
  },
  "language_info": {
   "codemirror_mode": {
    "name": "ipython",
    "version": 3
   },
   "file_extension": ".py",
   "mimetype": "text/x-python",
   "name": "python",
   "nbconvert_exporter": "python",
   "pygments_lexer": "ipython3",
   "version": "3.11.7"
  }
 },
 "nbformat": 4,
 "nbformat_minor": 5
}
